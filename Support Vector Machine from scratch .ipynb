{
 "cells": [
  {
   "cell_type": "code",
   "execution_count": 1,
   "id": "43966df3",
   "metadata": {},
   "outputs": [],
   "source": [
    "import numpy as np \n",
    "import matplotlib.pyplot as plt \n",
    "from sklearn.model_selection import train_test_split\n",
    "from sklearn.datasets import load_breast_cancer\n",
    "from sklearn.metrics import classification_report"
   ]
  },
  {
   "cell_type": "code",
   "execution_count": 2,
   "id": "3525368b",
   "metadata": {},
   "outputs": [],
   "source": [
    "X,Y = load_breast_cancer(return_X_y=True)"
   ]
  },
  {
   "cell_type": "code",
   "execution_count": 3,
   "id": "dbbfcfd7",
   "metadata": {},
   "outputs": [],
   "source": [
    "X_train,X_test,Y_train,Y_test=train_test_split(X,Y,test_size=0.25, random_state=42)"
   ]
  },
  {
   "cell_type": "code",
   "execution_count": 4,
   "id": "6b60a93a",
   "metadata": {},
   "outputs": [
    {
     "data": {
      "text/plain": [
       "(426,)"
      ]
     },
     "execution_count": 4,
     "metadata": {},
     "output_type": "execute_result"
    }
   ],
   "source": [
    "Y_train.shape"
   ]
  },
  {
   "cell_type": "markdown",
   "id": "a27d78b2",
   "metadata": {},
   "source": [
    "## Support Vector Machine impelementation "
   ]
  },
  {
   "cell_type": "code",
   "execution_count": 5,
   "id": "aeef36db",
   "metadata": {},
   "outputs": [],
   "source": [
    "# Functions to intiat weights \n",
    "def SVM_Fit (Data,Target,lr=0.001,lamda=0.01,epochs=1000):\n",
    "    Target=np.where(Target<=0,-1,1)\n",
    "    Weights=np.zeros(shape=(Data.shape[1],1))\n",
    "    b=0\n",
    "    for i in range (epochs):\n",
    "        for index ,value in enumerate(Data):\n",
    "            condition=(Target[index]*((Weights.T@value)+b))>=1\n",
    "            if condition :\n",
    "                dw=lamda*Weights\n",
    "                db=0\n",
    "            else:\n",
    "                dw=lamda*Weights-(Target[index]*(value)).reshape(Weights.shape)\n",
    "                db=-Target[index]\n",
    "            Weights-=lr*dw\n",
    "            b-=lr*db\n",
    "    return Weights,b"
   ]
  },
  {
   "cell_type": "code",
   "execution_count": 7,
   "id": "d42999be",
   "metadata": {},
   "outputs": [],
   "source": [
    "def SVM_predict (Data,weights,b):\n",
    "    return np.sign((weights.T@Data.T+b))"
   ]
  },
  {
   "cell_type": "code",
   "execution_count": 8,
   "id": "67a3f483",
   "metadata": {},
   "outputs": [
    {
     "data": {
      "text/plain": [
       "(426, 30)"
      ]
     },
     "execution_count": 8,
     "metadata": {},
     "output_type": "execute_result"
    }
   ],
   "source": [
    "X_train.shape"
   ]
  },
  {
   "cell_type": "code",
   "execution_count": 9,
   "id": "ad718ab7",
   "metadata": {},
   "outputs": [],
   "source": [
    "Weights,b=SVM_Fit(X_train,Y_train,lamda=0.1)"
   ]
  },
  {
   "cell_type": "code",
   "execution_count": 10,
   "id": "3a423581",
   "metadata": {},
   "outputs": [
    {
     "data": {
      "text/plain": [
       "(array([[ 2.02836541e+00],\n",
       "        [ 1.14627465e+00],\n",
       "        [ 1.12428152e+01],\n",
       "        [ 3.87864422e+00],\n",
       "        [ 1.49052926e-02],\n",
       "        [-2.57665751e-02],\n",
       "        [-5.91323051e-02],\n",
       "        [-2.43753496e-02],\n",
       "        [ 2.58817842e-02],\n",
       "        [ 1.22751247e-02],\n",
       "        [-7.58741566e-03],\n",
       "        [ 5.64861015e-03],\n",
       "        [-3.14970905e-01],\n",
       "        [-5.17638666e+00],\n",
       "        [ 3.00788883e-04],\n",
       "        [-9.19505688e-03],\n",
       "        [-1.20792480e-02],\n",
       "        [-2.59992336e-03],\n",
       "        [ 2.43892881e-05],\n",
       "        [-7.68326355e-04],\n",
       "        [ 2.08953339e+00],\n",
       "        [ 9.33188494e-01],\n",
       "        [ 1.02802852e+01],\n",
       "        [-5.34023064e+00],\n",
       "        [ 1.49619744e-02],\n",
       "        [-1.01500016e-01],\n",
       "        [-1.40459707e-01],\n",
       "        [-3.68319221e-02],\n",
       "        [ 1.45969142e-02],\n",
       "        [ 5.25374638e-03]]),\n",
       " 11.422999999999108)"
      ]
     },
     "execution_count": 10,
     "metadata": {},
     "output_type": "execute_result"
    }
   ],
   "source": [
    "Weights,b"
   ]
  },
  {
   "cell_type": "code",
   "execution_count": 11,
   "id": "3117ee9c",
   "metadata": {},
   "outputs": [],
   "source": [
    "Y_pre=predict (X_train,Weights,b)"
   ]
  },
  {
   "cell_type": "code",
   "execution_count": 12,
   "id": "0ca18cbf",
   "metadata": {},
   "outputs": [],
   "source": [
    "Y_true=np.where(Y_train<=0,-1,1)"
   ]
  },
  {
   "cell_type": "code",
   "execution_count": 13,
   "id": "8eb7df47",
   "metadata": {},
   "outputs": [],
   "source": [
    "Y_true=Y_true.T.tolist()"
   ]
  },
  {
   "cell_type": "code",
   "execution_count": 14,
   "id": "b9ff3faf",
   "metadata": {},
   "outputs": [],
   "source": [
    "Y_pre=(Y_pre).tolist()"
   ]
  },
  {
   "cell_type": "code",
   "execution_count": 15,
   "id": "fd5b4d03",
   "metadata": {},
   "outputs": [],
   "source": [
    "lpre=[i for i in Y_pre[0]]"
   ]
  },
  {
   "cell_type": "code",
   "execution_count": 16,
   "id": "6cad040d",
   "metadata": {},
   "outputs": [],
   "source": [
    "Ltrue=[i for i in Y_true]"
   ]
  },
  {
   "cell_type": "code",
   "execution_count": 17,
   "id": "3d72374b",
   "metadata": {},
   "outputs": [
    {
     "data": {
      "text/plain": [
       "[1.0, -1.0, 1.0, -1.0, -1.0]"
      ]
     },
     "execution_count": 17,
     "metadata": {},
     "output_type": "execute_result"
    }
   ],
   "source": [
    "lpre[0:5]"
   ]
  },
  {
   "cell_type": "code",
   "execution_count": 18,
   "id": "d166e073",
   "metadata": {},
   "outputs": [
    {
     "data": {
      "text/plain": [
       "[1, -1, 1, -1, -1]"
      ]
     },
     "execution_count": 18,
     "metadata": {},
     "output_type": "execute_result"
    }
   ],
   "source": [
    "Ltrue[0:5]"
   ]
  },
  {
   "cell_type": "code",
   "execution_count": 19,
   "id": "2140cf52",
   "metadata": {},
   "outputs": [
    {
     "name": "stdout",
     "output_type": "stream",
     "text": [
      "              precision    recall  f1-score   support\n",
      "\n",
      "        -1.0       0.78      0.97      0.86       127\n",
      "         1.0       0.99      0.88      0.93       299\n",
      "\n",
      "    accuracy                           0.91       426\n",
      "   macro avg       0.88      0.93      0.90       426\n",
      "weighted avg       0.92      0.91      0.91       426\n",
      "\n"
     ]
    }
   ],
   "source": [
    "\n",
    "print(classification_report(lpre,Ltrue))"
   ]
  },
  {
   "cell_type": "code",
   "execution_count": 20,
   "id": "9d7db769",
   "metadata": {},
   "outputs": [],
   "source": [
    "def SVM_Patch_Fit (Data,Target,lr=0.001,lamda=0.01,epochs=1000):\n",
    "    Target=np.where(Target<=0,-1,1)\n",
    "    Weights=np.zeros(shape=(Data.shape[1],1))\n",
    "    b=0\n",
    "    for i in range (epochs):\n",
    "        dw=np.zeros(shape=(Data.shape[1],1))\n",
    "        db=0\n",
    "        for index ,value in enumerate(Data):\n",
    "            condition=(Target[index]*((Weights.T@value)+b))>=1\n",
    "            if condition :\n",
    "                dw+=lamda*Weights\n",
    "                db+=0\n",
    "            else:\n",
    "                dw+=lamda*Weights-(Target[index]*(value)).reshape(Weights.shape)\n",
    "                db+=-Target[index]\n",
    "        dw=dw/len(Target)\n",
    "        db=db/len(Target)\n",
    "        Weights-=lr*dw\n",
    "        b-=lr*db\n",
    "    return Weights,b"
   ]
  },
  {
   "cell_type": "code",
   "execution_count": 21,
   "id": "70356a07",
   "metadata": {},
   "outputs": [],
   "source": [
    "Weights_p,b_P=SVM_Patch_Fit (X_train,Y_train,lr=0.001,lamda=0.01,epochs=1000)"
   ]
  },
  {
   "cell_type": "code",
   "execution_count": 22,
   "id": "637a428a",
   "metadata": {},
   "outputs": [
    {
     "data": {
      "text/plain": [
       "(array([[ 3.12172058e-01],\n",
       "        [ 4.07860105e-01],\n",
       "        [ 1.80735725e+00],\n",
       "        [ 6.34990549e-01],\n",
       "        [ 2.78894208e-03],\n",
       "        [-1.61742749e-03],\n",
       "        [-5.99403426e-03],\n",
       "        [-2.56346826e-03],\n",
       "        [ 5.21235663e-03],\n",
       "        [ 2.25464675e-03],\n",
       "        [ 5.81386696e-04],\n",
       "        [ 2.92899027e-02],\n",
       "        [-1.08416079e-02],\n",
       "        [-8.43987862e-01],\n",
       "        [ 1.40792282e-04],\n",
       "        [-4.67422534e-04],\n",
       "        [-8.08499186e-04],\n",
       "        [-1.20023864e-04],\n",
       "        [ 4.37086682e-04],\n",
       "        [ 2.77975233e-05],\n",
       "        [ 3.30125719e-01],\n",
       "        [ 5.11383961e-01],\n",
       "        [ 1.84649011e+00],\n",
       "        [-9.79823168e-01],\n",
       "        [ 3.38701415e-03],\n",
       "        [-6.61268203e-03],\n",
       "        [-1.25230054e-02],\n",
       "        [-3.07054504e-03],\n",
       "        [ 6.65700351e-03],\n",
       "        [ 2.04963782e-03]]),\n",
       " 0.041319248826290934)"
      ]
     },
     "execution_count": 22,
     "metadata": {},
     "output_type": "execute_result"
    }
   ],
   "source": [
    "Weights_p,b_P"
   ]
  },
  {
   "cell_type": "code",
   "execution_count": 24,
   "id": "1a77014b",
   "metadata": {},
   "outputs": [],
   "source": [
    "Y_pre=predict (X_train,Weights_p,b_P)"
   ]
  },
  {
   "cell_type": "code",
   "execution_count": 25,
   "id": "9c059aeb",
   "metadata": {},
   "outputs": [],
   "source": [
    "Y_pre=(Y_pre).tolist()"
   ]
  },
  {
   "cell_type": "code",
   "execution_count": 26,
   "id": "4bdd8a5a",
   "metadata": {},
   "outputs": [
    {
     "data": {
      "text/plain": [
       "[[1.0,\n",
       "  -1.0,\n",
       "  1.0,\n",
       "  -1.0,\n",
       "  -1.0,\n",
       "  -1.0,\n",
       "  1.0,\n",
       "  -1.0,\n",
       "  1.0,\n",
       "  1.0,\n",
       "  1.0,\n",
       "  1.0,\n",
       "  -1.0,\n",
       "  -1.0,\n",
       "  1.0,\n",
       "  1.0,\n",
       "  1.0,\n",
       "  1.0,\n",
       "  1.0,\n",
       "  1.0,\n",
       "  1.0,\n",
       "  -1.0,\n",
       "  1.0,\n",
       "  1.0,\n",
       "  -1.0,\n",
       "  1.0,\n",
       "  -1.0,\n",
       "  1.0,\n",
       "  1.0,\n",
       "  1.0,\n",
       "  -1.0,\n",
       "  1.0,\n",
       "  -1.0,\n",
       "  -1.0,\n",
       "  1.0,\n",
       "  1.0,\n",
       "  1.0,\n",
       "  1.0,\n",
       "  1.0,\n",
       "  1.0,\n",
       "  -1.0,\n",
       "  -1.0,\n",
       "  -1.0,\n",
       "  1.0,\n",
       "  1.0,\n",
       "  -1.0,\n",
       "  1.0,\n",
       "  -1.0,\n",
       "  1.0,\n",
       "  1.0,\n",
       "  1.0,\n",
       "  1.0,\n",
       "  -1.0,\n",
       "  1.0,\n",
       "  1.0,\n",
       "  -1.0,\n",
       "  1.0,\n",
       "  -1.0,\n",
       "  1.0,\n",
       "  -1.0,\n",
       "  1.0,\n",
       "  -1.0,\n",
       "  -1.0,\n",
       "  1.0,\n",
       "  1.0,\n",
       "  1.0,\n",
       "  -1.0,\n",
       "  1.0,\n",
       "  1.0,\n",
       "  1.0,\n",
       "  1.0,\n",
       "  -1.0,\n",
       "  1.0,\n",
       "  1.0,\n",
       "  1.0,\n",
       "  1.0,\n",
       "  1.0,\n",
       "  -1.0,\n",
       "  1.0,\n",
       "  -1.0,\n",
       "  -1.0,\n",
       "  1.0,\n",
       "  1.0,\n",
       "  -1.0,\n",
       "  1.0,\n",
       "  1.0,\n",
       "  1.0,\n",
       "  1.0,\n",
       "  -1.0,\n",
       "  1.0,\n",
       "  1.0,\n",
       "  1.0,\n",
       "  -1.0,\n",
       "  -1.0,\n",
       "  1.0,\n",
       "  -1.0,\n",
       "  -1.0,\n",
       "  1.0,\n",
       "  1.0,\n",
       "  -1.0,\n",
       "  -1.0,\n",
       "  -1.0,\n",
       "  1.0,\n",
       "  -1.0,\n",
       "  1.0,\n",
       "  -1.0,\n",
       "  1.0,\n",
       "  -1.0,\n",
       "  -1.0,\n",
       "  1.0,\n",
       "  1.0,\n",
       "  1.0,\n",
       "  1.0,\n",
       "  1.0,\n",
       "  -1.0,\n",
       "  -1.0,\n",
       "  -1.0,\n",
       "  1.0,\n",
       "  -1.0,\n",
       "  1.0,\n",
       "  -1.0,\n",
       "  -1.0,\n",
       "  1.0,\n",
       "  1.0,\n",
       "  1.0,\n",
       "  1.0,\n",
       "  1.0,\n",
       "  1.0,\n",
       "  1.0,\n",
       "  1.0,\n",
       "  -1.0,\n",
       "  1.0,\n",
       "  1.0,\n",
       "  -1.0,\n",
       "  1.0,\n",
       "  1.0,\n",
       "  -1.0,\n",
       "  1.0,\n",
       "  1.0,\n",
       "  1.0,\n",
       "  1.0,\n",
       "  1.0,\n",
       "  1.0,\n",
       "  1.0,\n",
       "  -1.0,\n",
       "  1.0,\n",
       "  1.0,\n",
       "  1.0,\n",
       "  -1.0,\n",
       "  1.0,\n",
       "  -1.0,\n",
       "  -1.0,\n",
       "  1.0,\n",
       "  1.0,\n",
       "  1.0,\n",
       "  1.0,\n",
       "  -1.0,\n",
       "  -1.0,\n",
       "  1.0,\n",
       "  1.0,\n",
       "  -1.0,\n",
       "  1.0,\n",
       "  -1.0,\n",
       "  -1.0,\n",
       "  1.0,\n",
       "  1.0,\n",
       "  1.0,\n",
       "  1.0,\n",
       "  1.0,\n",
       "  1.0,\n",
       "  1.0,\n",
       "  -1.0,\n",
       "  1.0,\n",
       "  1.0,\n",
       "  -1.0,\n",
       "  1.0,\n",
       "  1.0,\n",
       "  -1.0,\n",
       "  1.0,\n",
       "  -1.0,\n",
       "  1.0,\n",
       "  1.0,\n",
       "  -1.0,\n",
       "  -1.0,\n",
       "  1.0,\n",
       "  1.0,\n",
       "  -1.0,\n",
       "  1.0,\n",
       "  -1.0,\n",
       "  -1.0,\n",
       "  1.0,\n",
       "  -1.0,\n",
       "  -1.0,\n",
       "  1.0,\n",
       "  1.0,\n",
       "  -1.0,\n",
       "  -1.0,\n",
       "  -1.0,\n",
       "  1.0,\n",
       "  1.0,\n",
       "  1.0,\n",
       "  1.0,\n",
       "  -1.0,\n",
       "  1.0,\n",
       "  -1.0,\n",
       "  -1.0,\n",
       "  -1.0,\n",
       "  -1.0,\n",
       "  1.0,\n",
       "  1.0,\n",
       "  1.0,\n",
       "  1.0,\n",
       "  -1.0,\n",
       "  1.0,\n",
       "  1.0,\n",
       "  1.0,\n",
       "  -1.0,\n",
       "  -1.0,\n",
       "  1.0,\n",
       "  1.0,\n",
       "  -1.0,\n",
       "  1.0,\n",
       "  1.0,\n",
       "  1.0,\n",
       "  1.0,\n",
       "  1.0,\n",
       "  -1.0,\n",
       "  1.0,\n",
       "  1.0,\n",
       "  -1.0,\n",
       "  -1.0,\n",
       "  1.0,\n",
       "  -1.0,\n",
       "  1.0,\n",
       "  -1.0,\n",
       "  1.0,\n",
       "  1.0,\n",
       "  1.0,\n",
       "  1.0,\n",
       "  1.0,\n",
       "  -1.0,\n",
       "  -1.0,\n",
       "  1.0,\n",
       "  -1.0,\n",
       "  -1.0,\n",
       "  1.0,\n",
       "  1.0,\n",
       "  1.0,\n",
       "  1.0,\n",
       "  1.0,\n",
       "  1.0,\n",
       "  -1.0,\n",
       "  -1.0,\n",
       "  -1.0,\n",
       "  -1.0,\n",
       "  1.0,\n",
       "  -1.0,\n",
       "  -1.0,\n",
       "  -1.0,\n",
       "  1.0,\n",
       "  -1.0,\n",
       "  -1.0,\n",
       "  1.0,\n",
       "  -1.0,\n",
       "  -1.0,\n",
       "  -1.0,\n",
       "  1.0,\n",
       "  1.0,\n",
       "  1.0,\n",
       "  1.0,\n",
       "  -1.0,\n",
       "  1.0,\n",
       "  1.0,\n",
       "  -1.0,\n",
       "  1.0,\n",
       "  1.0,\n",
       "  1.0,\n",
       "  -1.0,\n",
       "  1.0,\n",
       "  1.0,\n",
       "  1.0,\n",
       "  1.0,\n",
       "  1.0,\n",
       "  -1.0,\n",
       "  1.0,\n",
       "  -1.0,\n",
       "  -1.0,\n",
       "  1.0,\n",
       "  1.0,\n",
       "  -1.0,\n",
       "  1.0,\n",
       "  -1.0,\n",
       "  -1.0,\n",
       "  1.0,\n",
       "  1.0,\n",
       "  -1.0,\n",
       "  1.0,\n",
       "  -1.0,\n",
       "  1.0,\n",
       "  -1.0,\n",
       "  -1.0,\n",
       "  1.0,\n",
       "  1.0,\n",
       "  1.0,\n",
       "  1.0,\n",
       "  -1.0,\n",
       "  -1.0,\n",
       "  -1.0,\n",
       "  -1.0,\n",
       "  1.0,\n",
       "  1.0,\n",
       "  -1.0,\n",
       "  -1.0,\n",
       "  -1.0,\n",
       "  1.0,\n",
       "  -1.0,\n",
       "  -1.0,\n",
       "  1.0,\n",
       "  1.0,\n",
       "  1.0,\n",
       "  -1.0,\n",
       "  1.0,\n",
       "  -1.0,\n",
       "  -1.0,\n",
       "  -1.0,\n",
       "  1.0,\n",
       "  1.0,\n",
       "  1.0,\n",
       "  -1.0,\n",
       "  1.0,\n",
       "  1.0,\n",
       "  -1.0,\n",
       "  -1.0,\n",
       "  1.0,\n",
       "  -1.0,\n",
       "  -1.0,\n",
       "  1.0,\n",
       "  1.0,\n",
       "  1.0,\n",
       "  1.0,\n",
       "  1.0,\n",
       "  1.0,\n",
       "  1.0,\n",
       "  1.0,\n",
       "  -1.0,\n",
       "  -1.0,\n",
       "  -1.0,\n",
       "  -1.0,\n",
       "  1.0,\n",
       "  1.0,\n",
       "  1.0,\n",
       "  1.0,\n",
       "  -1.0,\n",
       "  1.0,\n",
       "  -1.0,\n",
       "  1.0,\n",
       "  1.0,\n",
       "  1.0,\n",
       "  1.0,\n",
       "  1.0,\n",
       "  -1.0,\n",
       "  -1.0,\n",
       "  -1.0,\n",
       "  1.0,\n",
       "  1.0,\n",
       "  1.0,\n",
       "  -1.0,\n",
       "  -1.0,\n",
       "  -1.0,\n",
       "  -1.0,\n",
       "  -1.0,\n",
       "  -1.0,\n",
       "  1.0,\n",
       "  1.0,\n",
       "  -1.0,\n",
       "  -1.0,\n",
       "  1.0,\n",
       "  1.0,\n",
       "  1.0,\n",
       "  -1.0,\n",
       "  1.0,\n",
       "  -1.0,\n",
       "  1.0,\n",
       "  1.0,\n",
       "  1.0,\n",
       "  1.0,\n",
       "  -1.0,\n",
       "  1.0,\n",
       "  1.0,\n",
       "  -1.0,\n",
       "  1.0,\n",
       "  1.0,\n",
       "  1.0,\n",
       "  1.0,\n",
       "  1.0,\n",
       "  1.0,\n",
       "  1.0,\n",
       "  1.0,\n",
       "  1.0,\n",
       "  -1.0,\n",
       "  1.0,\n",
       "  1.0,\n",
       "  1.0,\n",
       "  1.0,\n",
       "  1.0,\n",
       "  1.0,\n",
       "  1.0,\n",
       "  -1.0,\n",
       "  -1.0,\n",
       "  -1.0,\n",
       "  1.0,\n",
       "  1.0,\n",
       "  -1.0,\n",
       "  -1.0,\n",
       "  -1.0,\n",
       "  1.0,\n",
       "  -1.0,\n",
       "  -1.0,\n",
       "  1.0,\n",
       "  -1.0,\n",
       "  1.0,\n",
       "  1.0,\n",
       "  1.0,\n",
       "  1.0,\n",
       "  -1.0,\n",
       "  1.0]]"
      ]
     },
     "execution_count": 26,
     "metadata": {},
     "output_type": "execute_result"
    }
   ],
   "source": []
  },
  {
   "cell_type": "code",
   "execution_count": 27,
   "id": "b5d96a1c",
   "metadata": {},
   "outputs": [],
   "source": [
    "lpre=[i for i in Y_pre[0]]"
   ]
  },
  {
   "cell_type": "code",
   "execution_count": 28,
   "id": "8778f126",
   "metadata": {},
   "outputs": [
    {
     "name": "stdout",
     "output_type": "stream",
     "text": [
      "              precision    recall  f1-score   support\n",
      "\n",
      "        -1.0       0.88      0.83      0.86       167\n",
      "         1.0       0.90      0.93      0.91       259\n",
      "\n",
      "    accuracy                           0.89       426\n",
      "   macro avg       0.89      0.88      0.88       426\n",
      "weighted avg       0.89      0.89      0.89       426\n",
      "\n"
     ]
    }
   ],
   "source": [
    "print(classification_report(lpre,Ltrue))"
   ]
  },
  {
   "cell_type": "code",
   "execution_count": 1,
   "id": "43852733",
   "metadata": {},
   "outputs": [],
   "source": [
    "l=[]\n",
    "s=[3,1000]\n",
    "l.append(s)"
   ]
  },
  {
   "cell_type": "code",
   "execution_count": 2,
   "id": "cc377aae",
   "metadata": {},
   "outputs": [
    {
     "data": {
      "text/plain": [
       "[[3, 1000]]"
      ]
     },
     "execution_count": 2,
     "metadata": {},
     "output_type": "execute_result"
    }
   ],
   "source": [
    "l"
   ]
  },
  {
   "cell_type": "code",
   "execution_count": null,
   "id": "873dc25d",
   "metadata": {},
   "outputs": [],
   "source": []
  }
 ],
 "metadata": {
  "kernelspec": {
   "display_name": "Python 3 (ipykernel)",
   "language": "python",
   "name": "python3"
  },
  "language_info": {
   "codemirror_mode": {
    "name": "ipython",
    "version": 3
   },
   "file_extension": ".py",
   "mimetype": "text/x-python",
   "name": "python",
   "nbconvert_exporter": "python",
   "pygments_lexer": "ipython3",
   "version": "3.9.12"
  }
 },
 "nbformat": 4,
 "nbformat_minor": 5
}
